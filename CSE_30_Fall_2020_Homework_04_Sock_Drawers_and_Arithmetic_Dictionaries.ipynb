{
  "nbformat": 4,
  "nbformat_minor": 0,
  "metadata": {
    "colab": {
      "name": "Homework_4_Sock_Drawers_and_Arithmetic_Dictionaries.ipynb",
      "provenance": [],
      "collapsed_sections": []
    },
    "kernelspec": {
      "display_name": "Python 3",
      "language": "python",
      "name": "python3"
    },
    "language_info": {
      "codemirror_mode": {
        "name": "ipython",
        "version": 3
      },
      "file_extension": ".py",
      "mimetype": "text/x-python",
      "name": "python",
      "nbconvert_exporter": "python",
      "pygments_lexer": "ipython3",
      "version": "3.7.3"
    },
    "test_info": {
      "id": "76c296520e92d6a5a3100d2a6d33396197f05e98"
    }
  },
  "cells": [
    {
      "cell_type": "markdown",
      "metadata": {
        "id": "WZFPnG3cl0Fy"
      },
      "source": [
        "Before you turn this problem in, make sure everything runs as expected. First, **restart the kernel** (in the menubar, select Kernel$\\rightarrow$Restart) and then **run all cells** (in the menubar, select Cell$\\rightarrow$Run All).\n",
        "\n",
        "Make sure you fill in any place that says `YOUR CODE HERE` or \"YOUR ANSWER HERE\", as well as your name and collaborators below:"
      ]
    },
    {
      "cell_type": "code",
      "metadata": {
        "id": "9GeObrEZl0Fz"
      },
      "source": [
        "NAME = \"Rory Glenn\"\n",
        "COLLABORATORS = \"\""
      ],
      "execution_count": null,
      "outputs": []
    },
    {
      "cell_type": "markdown",
      "metadata": {
        "id": "4DfBkj0vl0F1"
      },
      "source": [
        "---"
      ]
    },
    {
      "cell_type": "markdown",
      "metadata": {
        "deletable": false,
        "editable": false,
        "nbgrader": {
          "checksum": "ac71a1cb9d2d2efe6be7f185dd156c8d",
          "grade": false,
          "grade_id": "cell-c5a4b3d43ac682ab",
          "locked": true,
          "schema_version": 1,
          "solution": false
        },
        "id": "QEFrJbYpl0F2"
      },
      "source": [
        "# Homework 4: Sock Drawers and Arithmetic Dictionaries\n",
        "## CSE 30 Fall 2020\n",
        "\n",
        "### Copyright Luca de Alfaro, 2019-20.  License: CC-BY-NC. "
      ]
    },
    {
      "cell_type": "markdown",
      "metadata": {
        "deletable": false,
        "editable": false,
        "nbgrader": {
          "checksum": "d2b8306f2103435cbe58c144a9c457f9",
          "grade": false,
          "grade_id": "cell-d9a95998a76efa02",
          "locked": true,
          "schema_version": 1,
          "solution": false
        },
        "id": "SI9ELq-yl0F2"
      },
      "source": [
        "For how to work on this homework assignment, please refer to the instructions posted on Canvas. \n",
        "\n",
        "## Submission\n",
        "\n",
        "[Please submit to this Google Form](https://forms.gle/UbDEiWqdfhSxzHnk7).\n",
        "\n",
        "Deadline: Thursday October 22, 11pm (check on Canvas for updated information)."
      ]
    },
    {
      "cell_type": "markdown",
      "metadata": {
        "deletable": false,
        "editable": false,
        "nbgrader": {
          "checksum": "e21b97df7a3298cde24c7575c8c7ce9f",
          "grade": false,
          "grade_id": "cell-92958a0cd3271cf4",
          "locked": true,
          "schema_version": 1,
          "solution": false
        },
        "id": "v4HpGWLcl0F2"
      },
      "source": [
        "## About this homework\n",
        "This homework notebook has many cells, as it is derived from the chapter, but there are only three questions. \n",
        "Each question is marked\n",
        "\n",
        "    ### Question n:\n",
        "    \n",
        "for $n = 1, 2, 3$. "
      ]
    },
    {
      "cell_type": "markdown",
      "metadata": {
        "deletable": false,
        "editable": false,
        "nbgrader": {
          "checksum": "b557b71c54f006d464e4d842e495487f",
          "grade": false,
          "grade_id": "cell-bd6707201bac3ec",
          "locked": true,
          "schema_version": 1,
          "solution": false
        },
        "id": "oe2YpZXUl0F3"
      },
      "source": [
        "## A Sock Drawer\n",
        "\n",
        "Let us model a sock drawer.  How does a sock drawer work?  Well, when you do the washing, you end up with a bunch of socks, and you just put them in the drawer. So one operation is \"put sock in drawer\".  The other thing you typically do is look for two matching socks.  For simplicity, we will have only one attribute that we use to match socks: their color.  So the operations, in detail, are: \n",
        "\n",
        "* `add_sock`: adds a sock of a given color\n",
        "* `get_pair`: ask if there is a pair of a given color, and if so, remove it\n",
        "* `available_colors`: returns the set of colors for which there is at least a pair. \n",
        "\n",
        "Of course, you could also devise other operations, but these seem to be the basic ones.  \n",
        "\n",
        "An aside: why does `available_colors` return a set and not a list? \n",
        "For two reasons.  First, returning a set makes clear (and indeed, enforces) that every color should appear only once in the return result. \n",
        "Second, in sets, the order of elements is irrelevant.  If we used a list, rather than a set, in any unit test suite we would have to: \n",
        "\n",
        "* Check that every element appears only once in the list; \n",
        "* sort the list of results before comparing it with the expected results, to ensure that different orders of elements in the returned list do not cause the test to fail. \n",
        "\n",
        "In general, it is quite important to choose as types for variables or return values, a type that expresses as best as possible the intended properties of the value.\n",
        "Another thing: we want to define `available_colors` so that it is a _property_ rather than a method.  In this way, for a sock drawer `d`, we will be able to write `d.available_colors` rather than `d.available_colors()`.  It is a small difference, but in my opinion it does make the code look a little bit cleaner. "
      ]
    },
    {
      "cell_type": "markdown",
      "metadata": {
        "deletable": false,
        "editable": false,
        "nbgrader": {
          "checksum": "8aa567edb295f825d6b9e99ed271deea",
          "grade": false,
          "grade_id": "cell-2a0f56045a53790f",
          "locked": true,
          "schema_version": 1,
          "solution": false
        },
        "id": "Z81mOkoEl0F3"
      },
      "source": [
        "What is a good implementation?  At first, one may consider simply implementing the drawer as a list of socks, where each sock is represented by its color.  This is simple enough at first:"
      ]
    },
    {
      "cell_type": "code",
      "metadata": {
        "deletable": false,
        "editable": false,
        "nbgrader": {
          "checksum": "dd1eef8420706ed4825fdf87cd119c57",
          "grade": false,
          "grade_id": "cell-ff8c844d2ec0f67f",
          "locked": true,
          "schema_version": 1,
          "solution": false
        },
        "id": "yoJXlIVjl0F3"
      },
      "source": [
        "class SockDrawer(object):\n",
        "\n",
        "    def __init__(self):\n",
        "        self.drawer = []\n",
        "\n",
        "    def add_sock(self, color):\n",
        "        \"\"\"Adds a sock of the given color to the drawer.\"\"\"\n",
        "        self.drawer.append(color)\n",
        "\n",
        "    def get_pair(self, color):\n",
        "        \"\"\"Returns False if there is no pair of the given color, and True\n",
        "        if there is.  In the latter case, it removes the pair from the drawer.\"\"\"\n",
        "        if self.drawer.count(color) >= 2:\n",
        "            self.drawer.remove(color)\n",
        "            self.drawer.remove(color)\n",
        "            return True\n",
        "        else:\n",
        "            return False\n",
        "\n",
        "    @property\n",
        "    def available_colors(self):\n",
        "        \"\"\"Lists the colors for which we have at least two socks available.\"\"\"\n",
        "        colors = set()\n",
        "        for el in self.drawer:\n",
        "            if self.drawer.count(el) >= 2:\n",
        "                colors.add(el)\n",
        "        return colors\n"
      ],
      "execution_count": null,
      "outputs": []
    },
    {
      "cell_type": "markdown",
      "metadata": {
        "deletable": false,
        "editable": false,
        "nbgrader": {
          "checksum": "3b7e49650087f3acdbe59877572055ea",
          "grade": false,
          "grade_id": "cell-72a8cc80241fe2a6",
          "locked": true,
          "schema_version": 1,
          "solution": false
        },
        "id": "fARIf1C0l0F5"
      },
      "source": [
        "In the above implementation, `@property` is a [_decorator_](https://wiki.python.org/moin/PythonDecorators).  From the practical point of view, the [`@property` decorator](https://docs.python.org/3/library/functions.html#property) enables us to access the available colors of a sock drawer `sd` via `sd.available_colors` rather than `sd.available_colors()`: that is, it makes what is in truth a method call look like a variable access.  Big deal, you might say; all it does is it removes the need for parentheses!  True, but the eye also wants its part. \n",
        "\n",
        "In general, Python decorators are functions that take an input a function (the function just below them), and return another function; we will have occasion of seeing more of them later, and for the moment this short introduction shall suffice. "
      ]
    },
    {
      "cell_type": "markdown",
      "metadata": {
        "deletable": false,
        "editable": false,
        "nbgrader": {
          "checksum": "1f388682239ed0cc190f06cd26eed339",
          "grade": false,
          "grade_id": "cell-aed6da3a7cad4a89",
          "locked": true,
          "schema_version": 1,
          "solution": false
        },
        "id": "zh0TZBg5l0F6"
      },
      "source": [
        "Before we proceed further, let us write a function that puts the class through some tests.  We write this as a function taking the class as an argument (yes, in Python classes can be passed as arguments to functions).  In this way, when we define another (perhaps better) class that implements the sock drawer, we can test it using the same tests. \n",
        "\n",
        "**By popular request, we print Success! again.**"
      ]
    },
    {
      "cell_type": "code",
      "metadata": {
        "deletable": false,
        "editable": false,
        "nbgrader": {
          "checksum": "eaa75396f21a8d36c14ec863f87771e1",
          "grade": false,
          "grade_id": "cell-80d069d53083fc5f",
          "locked": true,
          "schema_version": 1,
          "solution": false
        },
        "id": "gwgLNHJxl0F6"
      },
      "source": [
        "#@title Let's define a testing helper.\n",
        "\n",
        "def check_equal(x, y, msg=None):\n",
        "    if x != y:\n",
        "        if msg is None:\n",
        "            print(\"Error:\")\n",
        "        else:\n",
        "            print(\"Error in\", msg, \":\")\n",
        "        print(\"    Your answer was:\", x)\n",
        "        print(\"    Correct answer: \", y)\n",
        "    else:\n",
        "        print(\"Success!\")\n",
        "    assert x == y, \"%r and %r are different\" % (x, y)\n"
      ],
      "execution_count": null,
      "outputs": []
    },
    {
      "cell_type": "code",
      "metadata": {
        "deletable": false,
        "editable": false,
        "nbgrader": {
          "checksum": "e64a7ea4e28b26c7368abf98c0ca8674",
          "grade": false,
          "grade_id": "cell-c0054ba2e4de9122",
          "locked": true,
          "schema_version": 1,
          "solution": false
        },
        "id": "-BfZyjoWl0F8"
      },
      "source": [
        "def test_drawer(c):\n",
        "    \"\"\"Tests a drawer class c.\"\"\"\n",
        "    d = c()\n",
        "    d.add_sock('red')\n",
        "    d.add_sock('red')\n",
        "    d.add_sock('red')\n",
        "    d.add_sock('green')\n",
        "    check_equal(d.available_colors, {'red'})\n",
        "    check_equal(d.get_pair('red'), True)\n",
        "    check_equal(d.get_pair('green'), False)\n",
        "    check_equal(d.get_pair('red'), False)\n",
        "    d.add_sock('blue')\n",
        "    d.add_sock('blue')\n",
        "    d.add_sock('blue')\n",
        "    d.add_sock('red')\n",
        "    check_equal(d.available_colors, {'red', 'blue'})\n"
      ],
      "execution_count": null,
      "outputs": []
    },
    {
      "cell_type": "code",
      "metadata": {
        "deletable": false,
        "editable": false,
        "nbgrader": {
          "checksum": "48625f723738d684e57abe63cfada286",
          "grade": false,
          "grade_id": "cell-e1febf2b8b5c9baa",
          "locked": true,
          "schema_version": 1,
          "solution": false
        },
        "id": "agsJUbZdl0F9",
        "colab": {
          "base_uri": "https://localhost:8080/",
          "height": 105
        },
        "outputId": "61a37923-1b07-4785-a7cc-be9f449621e5"
      },
      "source": [
        "test_drawer(SockDrawer)\n"
      ],
      "execution_count": null,
      "outputs": [
        {
          "output_type": "stream",
          "text": [
            "Success!\n",
            "Success!\n",
            "Success!\n",
            "Success!\n",
            "Success!\n"
          ],
          "name": "stdout"
        }
      ]
    },
    {
      "cell_type": "markdown",
      "metadata": {
        "deletable": false,
        "editable": false,
        "nbgrader": {
          "checksum": "d91bcdd334c356106e18dab1babd135c",
          "grade": false,
          "grade_id": "cell-864430f6fadf3230",
          "locked": true,
          "schema_version": 1,
          "solution": false
        },
        "id": "wMacnnN5l0F_"
      },
      "source": [
        "I always find it a bit anticlimatic when all the tests pass, and all you get for this accomplishment is... nothing.  Yes, we could define a `PatOnTheBack` exception and raise it, but that will be for another time. \n",
        "\n",
        "Rather, let us discuss why the above implementation of a sock drawer is not great. \n",
        "A list keeps elements in a ... list.  So if you need to count the number of times in which an element occurs, you need to traverse the list.  The method count() is faster than the do-it-yourself solution `len([x for x in self.drawer if x == color])`,  as it is implemented natively, but it is still slow.  On top of that, once having counted the number of colors, if the chosen color appears more than once in `get_pair`, we call remove() _twice_ to remove it.  This is just esthetically terrible. We go over the list three times, each time unable to make use of the information we found the previous time. \n",
        "\n",
        "In the big scheme of things, the implementation might be fine.  \"Going over the list\" takes time proportional to the length of the list (it is a _linear-time_ operation), and unless a person has a very large number of socks, the performance may never become a bottleneck.  What is really disturbing, to me at least, is the ugliness of the code. "
      ]
    },
    {
      "cell_type": "markdown",
      "metadata": {
        "deletable": false,
        "editable": false,
        "nbgrader": {
          "checksum": "d96c4b8bbca2544301cb3fb4b96260c6",
          "grade": false,
          "grade_id": "cell-7337975e63967e2e",
          "locked": true,
          "schema_version": 1,
          "solution": false
        },
        "id": "-Vl-oKtvl0F_"
      },
      "source": [
        "## A Better Sock Drawer\n",
        "\n",
        "Let us aim at a better solution.  The problem with our list-based implementation, fundamentally, is that all our questions can be answered by knowing how many socks we have for each color, and the list implementation stores this information in unary format, and mixing all colors together.  A much more rational way of remembering the status of the drawer is to associate with each color the number of socks we have.  Thus, our main data structure will be a dictionary mapping colors to integers. \n",
        "\n",
        "A short aside. If `d` is a normal dictionary, and you want to add `quantity` to `color`, you end up writing code like this:"
      ]
    },
    {
      "cell_type": "code",
      "metadata": {
        "deletable": false,
        "editable": false,
        "nbgrader": {
          "checksum": "c1291a9ad13441ca5db5df9e35c8f7f5",
          "grade": false,
          "grade_id": "cell-ab0b54c0ae9c0d17",
          "locked": true,
          "schema_version": 1,
          "solution": false
        },
        "id": "hkaVVMozl0GA"
      },
      "source": [
        "# Just to initialize\n",
        "d = {'green': 4}\n",
        "color = 'red'\n",
        "quantity = 2\n",
        "\n",
        "if color in d:\n",
        "    d[color] += quantity\n",
        "else:\n",
        "    d[color] = quantity\n"
      ],
      "execution_count": null,
      "outputs": []
    },
    {
      "cell_type": "markdown",
      "metadata": {
        "deletable": false,
        "editable": false,
        "nbgrader": {
          "checksum": "48ce58316567e4686d850c6e0cb95a2e",
          "grade": false,
          "grade_id": "cell-9e5769214cb6991f",
          "locked": true,
          "schema_version": 1,
          "solution": false
        },
        "id": "jln-ozuyl0GB"
      },
      "source": [
        "Yes, you can do a little better, as in: "
      ]
    },
    {
      "cell_type": "code",
      "metadata": {
        "deletable": false,
        "editable": false,
        "nbgrader": {
          "checksum": "dcdcb68a12cea3cf890a468c0ccfe947",
          "grade": false,
          "grade_id": "cell-b085cb9713f1b20a",
          "locked": true,
          "schema_version": 1,
          "solution": false
        },
        "id": "64_wUZKfl0GC"
      },
      "source": [
        "d[color] = d.get(color, 0) + quantity\n"
      ],
      "execution_count": null,
      "outputs": []
    },
    {
      "cell_type": "markdown",
      "metadata": {
        "deletable": false,
        "editable": false,
        "nbgrader": {
          "checksum": "169b4db6cee2179d5f9e6398db0403eb",
          "grade": false,
          "grade_id": "cell-2cbeefa2165a5ca0",
          "locked": true,
          "schema_version": 1,
          "solution": false
        },
        "id": "XZLIS0LDl0GD"
      },
      "source": [
        "but this is not nearly as elegant as being able to access a dictionary with square-bracket notation.  We would like some way of avoiding the test, or the concern, of whether a key is already in the dictionary.  \n",
        "\n",
        "The [`defaultdict` collection type](https://docs.python.org/3/library/collections.html#collections.defaultdict) does precisely this.  A defaultdict dictionary, when accessed, returns the value associated with the key, if any, and otherwise returns a default value.  You specify the default value when you create the defaultdict, by passing to its creator a _factory_ function.  The factory function is called any time a default value is needed, and should return the default value.\n",
        "\n",
        "In our case, we want a dictionary where the default value is 0; so we use the function `int` which, when called without arguments, returns 0.  Yes, it is a little confusing that `int` is both a type and a function... "
      ]
    },
    {
      "cell_type": "code",
      "metadata": {
        "deletable": false,
        "editable": false,
        "nbgrader": {
          "checksum": "12474dfdccb5e728db63a952e96d9734",
          "grade": false,
          "grade_id": "cell-a696d07b76dc3eba",
          "locked": true,
          "schema_version": 1,
          "solution": false
        },
        "id": "WexvDgr4l0GE",
        "colab": {
          "base_uri": "https://localhost:8080/",
          "height": 34
        },
        "outputId": "3b6d6169-58f1-4c40-f6b0-993f728dadd3"
      },
      "source": [
        "int()\n"
      ],
      "execution_count": null,
      "outputs": [
        {
          "output_type": "execute_result",
          "data": {
            "text/plain": [
              "0"
            ]
          },
          "metadata": {
            "tags": []
          },
          "execution_count": 82
        }
      ]
    },
    {
      "cell_type": "markdown",
      "metadata": {
        "deletable": false,
        "editable": false,
        "nbgrader": {
          "checksum": "f2f6395c2f97af4767efd4ad3d9b1b5c",
          "grade": false,
          "grade_id": "cell-1356a2e9a81f8d41",
          "locked": true,
          "schema_version": 1,
          "solution": false
        },
        "id": "81mAfDyel0GF"
      },
      "source": [
        "So we can create a dictionary with default value 0 as follows:"
      ]
    },
    {
      "cell_type": "code",
      "metadata": {
        "deletable": false,
        "editable": false,
        "nbgrader": {
          "checksum": "54127db6c6aae6b2b3f8b3db0ef8c337",
          "grade": false,
          "grade_id": "cell-3826f44e1749068e",
          "locked": true,
          "schema_version": 1,
          "solution": false
        },
        "id": "OoDUS0CCl0GF",
        "colab": {
          "base_uri": "https://localhost:8080/",
          "height": 52
        },
        "outputId": "2ac4d728-96a7-41db-bb7b-fbfe48876b6b"
      },
      "source": [
        "from collections import defaultdict\n",
        "d = defaultdict(int)\n",
        "\n",
        "d['red'] += 2\n",
        "print(d['red'])\n",
        "print(d['green'])\n"
      ],
      "execution_count": null,
      "outputs": [
        {
          "output_type": "stream",
          "text": [
            "2\n",
            "0\n"
          ],
          "name": "stdout"
        }
      ]
    },
    {
      "cell_type": "markdown",
      "metadata": {
        "deletable": false,
        "editable": false,
        "nbgrader": {
          "checksum": "1410f4ad680d5d3fc26473d0ec3a0ab6",
          "grade": false,
          "grade_id": "cell-a728613a048e57",
          "locked": true,
          "schema_version": 1,
          "solution": false
        },
        "id": "RqGBRHObl0GH"
      },
      "source": [
        "With this we can define a better sock drawer:"
      ]
    },
    {
      "cell_type": "code",
      "metadata": {
        "deletable": false,
        "editable": false,
        "nbgrader": {
          "checksum": "a869ac2e2c71cbb16004d3f500f9fc8c",
          "grade": false,
          "grade_id": "cell-7ba2d9613a738232",
          "locked": true,
          "schema_version": 1,
          "solution": false
        },
        "id": "Za4uAZgKl0GH"
      },
      "source": [
        "class SmartDrawer(object):\n",
        "\n",
        "    def __init__(self):\n",
        "        self.socks = defaultdict(int)\n",
        "\n",
        "    def add_sock(self, color):\n",
        "        self.socks[color] += 1\n",
        "\n",
        "    def get_pair(self, color):\n",
        "        if self.socks[color] > 1:\n",
        "            self.socks[color] -= 2\n",
        "            return True\n",
        "        else:\n",
        "            return False\n",
        "\n",
        "    @property\n",
        "    def available_colors(self):\n",
        "        return {c for c, n in self.socks.items() if n > 1}\n"
      ],
      "execution_count": null,
      "outputs": []
    },
    {
      "cell_type": "markdown",
      "metadata": {
        "deletable": false,
        "editable": false,
        "nbgrader": {
          "checksum": "26568282f1fb1c1cce64834a26fbc84b",
          "grade": false,
          "grade_id": "cell-32869439b03313b9",
          "locked": true,
          "schema_version": 1,
          "solution": false
        },
        "id": "eUg-3lHtl0GJ"
      },
      "source": [
        "Note how this code is not only more efficient than our previous attempt, but also more concise.  Let us test this class."
      ]
    },
    {
      "cell_type": "code",
      "metadata": {
        "deletable": false,
        "editable": false,
        "nbgrader": {
          "checksum": "30f284b8ddbe5a990d1ad4481a29d132",
          "grade": false,
          "grade_id": "cell-2295c5dfcc07cf97",
          "locked": true,
          "schema_version": 1,
          "solution": false
        },
        "id": "iBMuK8QFl0GJ",
        "colab": {
          "base_uri": "https://localhost:8080/",
          "height": 105
        },
        "outputId": "07af5b46-6628-472a-fb9d-8f3b875e7f2e"
      },
      "source": [
        "test_drawer(SmartDrawer)\n"
      ],
      "execution_count": null,
      "outputs": [
        {
          "output_type": "stream",
          "text": [
            "Success!\n",
            "Success!\n",
            "Success!\n",
            "Success!\n",
            "Success!\n"
          ],
          "name": "stdout"
        }
      ]
    },
    {
      "cell_type": "markdown",
      "metadata": {
        "deletable": false,
        "editable": false,
        "nbgrader": {
          "checksum": "f6b918b29af3b3bd1dd41e5ac09af4f5",
          "grade": false,
          "grade_id": "cell-ec0aca1c64d7671c",
          "locked": true,
          "schema_version": 1,
          "solution": false
        },
        "id": "tBCyhjX7l0GL"
      },
      "source": [
        "# Arithmetic Dictionaries\n",
        "\n",
        "At the core of our sock drawer implementation is a fundamental data structure which, for some reason, does not come standard in programming languages: a dictionary that has numerical values (and arbitrary keys). \n",
        "\n",
        "A number is a number.  An array, or vector, is a list of numbers that can be indexed by their position in the vector.  An _arithmetic dictionary_ is a set of numbers that can be addressed by their associated key.  Just as numbers, and arrays, can be combined via +, -, *, /, and compared with >, <, etc, so can arithmetic dictionaries.  Let us start defining them.  For brevity, we call them simply AD rather than ArithmeticDictionary.  We note that Python includes, in the `collections` module, the [`Counter` class](https://docs.python.org/3.7/library/collections.html#collections.Counter), which supports addition.  ADs are a more general version of the `Counter` class, as they support (or you can make them to support) all math operations you wish.\n",
        "\n",
        "In Python, to be able to have two ADs `d1` and `d2`  and compute their sum via the syntax `d1 + d2`, [we need to define the `__add__` operation](https://docs.python.org/3/reference/datamodel.html#emulating-numeric-types), and similarly for the other arithmetic operations.  \n",
        "\n",
        "There is a fine point to be discussed.  Arrays can be combined with arithmetical operations only when they are of the same dimensions, or when one can be \"[broadcast](https://docs.scipy.org/doc/numpy/user/basics.broadcasting.html)\" to fit the dimension of the other.  For dictionaries, however, the restriction to be able to combine only arithmetic dictionaries with the same keys would be too restrictive.  If we have an AD `d` representing a sock drawer, and we want to add to it one yellow and two blue socks, we want to be able to write something like: \n",
        "\n",
        "    d += AD({'yellow': 1, 'blue': 2})\n",
        "    \n",
        "rather than worry that `d` might have different keys from {'yellow', 'blue'}. Thus, in the definition of an operation, we will need to define suitable defaults for the missing values.  In general, the suitable defaults are the [_neutral elements_](https://en.wikipedia.org/wiki/Identity_element) with respect to the operation: 0 for $+$ and $-$, and 1 for $\\times$ and /. \n",
        "\n",
        "Let us begin from addition and subtraction."
      ]
    },
    {
      "cell_type": "code",
      "metadata": {
        "deletable": false,
        "editable": false,
        "nbgrader": {
          "checksum": "93f3bde3387cfda6b800ab629c26bd2c",
          "grade": false,
          "grade_id": "cell-75ed2e4d24bb712b",
          "locked": true,
          "schema_version": 1,
          "solution": false
        },
        "id": "lx0bf2Hel0GL"
      },
      "source": [
        "class AD(dict):\n",
        "\n",
        "    def __init__(self, *args, **kwargs):\n",
        "        \"\"\"This initializer simply passes all arguments to dict, so that\n",
        "        we can create an AD with the same ease with which we can create\n",
        "        a dict.  There is no need, indeed, to repeat the initializer,\n",
        "        but we leave it here in case we like to create attributes specific\n",
        "        of an AD later.\"\"\"\n",
        "        super().__init__(*args, **kwargs)\n",
        "\n",
        "    def __add__(self, other):\n",
        "        return AD._binary_op(self, other, lambda x, y: x + y, 0)\n",
        "\n",
        "    def __sub__(self, other):\n",
        "        return AD._binary_op(self, other, lambda x, y: x - y, 0)\n",
        "\n",
        "    @staticmethod\n",
        "    def _binary_op(left, right, op, neutral):\n",
        "        r = AD()\n",
        "        l_keys = set(left.keys()) if isinstance(left, dict) else set()\n",
        "        r_keys = set(right.keys()) if isinstance(right, dict) else set()\n",
        "        for k in l_keys | r_keys:\n",
        "            # If the right (or left) element is a dictionary (or an AD),\n",
        "            # we get the elements from the dictionary; else we use the right\n",
        "            # or left value itself.  This implements a sort of dictionary\n",
        "            # broadcasting.\n",
        "            l_val = left.get(k, neutral) if isinstance(left, dict) else left\n",
        "            r_val = right.get(k, neutral) if isinstance(right, dict) else right\n",
        "            r[k] = op(l_val, r_val)\n",
        "        return r\n",
        "\n"
      ],
      "execution_count": null,
      "outputs": []
    },
    {
      "cell_type": "markdown",
      "metadata": {
        "deletable": false,
        "editable": false,
        "nbgrader": {
          "checksum": "dbbc5d588d992629af4363f4828d483e",
          "grade": false,
          "grade_id": "cell-65a1562be0035094",
          "locked": true,
          "schema_version": 1,
          "solution": false
        },
        "id": "lyEgMpSZl0GN"
      },
      "source": [
        "In the implementation above, we have factored together what would have been the common part of the implementation of $+$ and $-$ in the method `_binary_op`.  The `_binary_op` method is a [_static method:_](https://docs.python.org/3/library/functions.html#staticmethod) it does not refer to a specific object.  In this way, we can decide separately what to provide to it as the left and right hand sides; this will be useful later, as we shall see.  To call it, we have to refer to it via `AD._binary_op` rather than `self._binary_op`, as would be the case for a normal (object) method.  Furthermore, in the `_binary_op` method, we do not have access to `self`, since `self` refers to a specific object, while the method is generic, defined for the class. \n",
        "\n",
        "The `_binary_op` method combines values from its `left` and `right` operands using operator `op`, and the default `neutral` if a value is not found.  The two operands `left` and `right` are interpreted as dictionaries if they are a subclass of `dict`, and are interpreted as constants otherwise.\n",
        "\n",
        "We have defined our class AD as a _subclass_ of the dictionary class `dict`.  This enables us to apply to an AD all the [methods that are defined for a dictionary](https://docs.python.org/3/library/stdtypes.html#typesmapping), which is really quite handy. "
      ]
    },
    {
      "cell_type": "code",
      "metadata": {
        "deletable": false,
        "editable": false,
        "nbgrader": {
          "checksum": "10ff683b84331c6680e9f286cee2de87",
          "grade": false,
          "grade_id": "cell-32ccf510b7509bfd",
          "locked": true,
          "schema_version": 1,
          "solution": false
        },
        "id": "3VOk2v7zl0GN",
        "colab": {
          "base_uri": "https://localhost:8080/",
          "height": 52
        },
        "outputId": "8c3ab644-8c46-4f63-efa6-f23deddc1dbf"
      },
      "source": [
        "d1 = AD()\n",
        "d1['red'] = 2\n",
        "print(d1)\n",
        "d2 = AD({'blue': 4, 'green': 5})\n",
        "print(d2)\n"
      ],
      "execution_count": null,
      "outputs": [
        {
          "output_type": "stream",
          "text": [
            "{'red': 2}\n",
            "{'blue': 4, 'green': 5}\n"
          ],
          "name": "stdout"
        }
      ]
    },
    {
      "cell_type": "markdown",
      "metadata": {
        "deletable": false,
        "editable": false,
        "nbgrader": {
          "checksum": "60d164611550fd30abd15c3e4e2d410c",
          "grade": false,
          "grade_id": "cell-6446f733c1336427",
          "locked": true,
          "schema_version": 1,
          "solution": false
        },
        "id": "Dp4dnfYnl0GP"
      },
      "source": [
        "In the code above, note how we can write `d1['red']`: our ability to access ADs via the square-bracket notation is due to the fact that ADs, like dictionaries, implement the [`__getitem__` method](https://docs.python.org/3/reference/datamodel.html#object.__getitem__).  Note also that AD inherits from `dict` even the initializer methods, so that we can pass to our dictionary another dictionary, and obtain an AD that contains a [_copy_ of that dictionary](https://docs.python.org/3/library/stdtypes.html#dict). \n",
        "\n",
        "We can see that addition and subtraction also work:"
      ]
    },
    {
      "cell_type": "code",
      "metadata": {
        "deletable": false,
        "editable": false,
        "nbgrader": {
          "checksum": "870b4e8faea451fe390b1fda9cc7f3bb",
          "grade": false,
          "grade_id": "cell-83b4fa16b5be01ec",
          "locked": true,
          "schema_version": 1,
          "solution": false
        },
        "id": "3MBO4hjrl0GP",
        "colab": {
          "base_uri": "https://localhost:8080/",
          "height": 52
        },
        "outputId": "f76f7a52-7b02-461c-d603-ce50bde00256"
      },
      "source": [
        "print(AD(red=2, green=3) + AD(red=1, blue=4))\n",
        "print(AD(red=2, green=3) - AD(red=1, blue=4))\n"
      ],
      "execution_count": null,
      "outputs": [
        {
          "output_type": "stream",
          "text": [
            "{'green': 3, 'red': 3, 'blue': 4}\n",
            "{'green': 3, 'red': 1, 'blue': -4}\n"
          ],
          "name": "stdout"
        }
      ]
    },
    {
      "cell_type": "markdown",
      "metadata": {
        "deletable": false,
        "editable": false,
        "nbgrader": {
          "checksum": "40f85fa206361b24807f325b737d4c5a",
          "grade": false,
          "grade_id": "cell-d3ce77a31d52e083",
          "locked": true,
          "schema_version": 1,
          "solution": false
        },
        "id": "1pTgXVKyl0GQ"
      },
      "source": [
        "We let multiplication and division to you to implement.\n",
        "You need to implement the operators:\n",
        "\n",
        "* `__mul__`\n",
        "* `__truediv__`\n",
        "* `__floordiv__`"
      ]
    },
    {
      "cell_type": "code",
      "metadata": {
        "deletable": false,
        "nbgrader": {
          "checksum": "3b9aa311563b60f604dc66ff7338cb16",
          "grade": false,
          "grade_id": "cell-2fa2c62167a17549",
          "locked": false,
          "schema_version": 1,
          "solution": true
        },
        "id": "7t01byWal0GR"
      },
      "source": [
        "### Question 1: Implement multiplication and division\n",
        "\n",
        "# Define __mul__\n",
        "def ad_mul(self, other):\n",
        "  return AD._binary_op(self, other, lambda x, y: x * y, 1)\n",
        "\n",
        "AD.__mul__ = ad_mul\n",
        "\n",
        "# Define below __truediv__, similarly.\n",
        "def ad_truediv(self, other):\n",
        "  return AD._binary_op(self, other, lambda x, y: float(x) / float(y), 1)\n",
        "\n",
        "AD.__truediv__ = ad_truediv\n",
        "\n",
        "def ad_floordiv(self, other):\n",
        "  return AD._binary_op(self, other, lambda x, y: x // y, 1)\n",
        "\n",
        "AD.__floordiv__ = ad_floordiv\n"
      ],
      "execution_count": null,
      "outputs": []
    },
    {
      "cell_type": "code",
      "metadata": {
        "deletable": false,
        "editable": false,
        "nbgrader": {
          "checksum": "d4555b39e21a3c8256d09bbfb2fe114d",
          "grade": true,
          "grade_id": "cell-ebdaced5ece80ec8",
          "locked": true,
          "points": 5,
          "schema_version": 1,
          "solution": false
        },
        "id": "2UYBsdezl0GS",
        "colab": {
          "base_uri": "https://localhost:8080/",
          "height": 34
        },
        "outputId": "af73c7a8-15fa-4ba1-9cfc-bb2298dc0e2c"
      },
      "source": [
        "### Tests for multiplication\n",
        "\n",
        "# Note that the elements that are missing in the other dictionary\n",
        "# are assumed to be 1.\n",
        "d = AD(a=2, b=3) * AD(b=4, c=5)\n",
        "check_equal(d, AD(a=2, b=12, c=5))\n",
        "\n"
      ],
      "execution_count": null,
      "outputs": [
        {
          "output_type": "stream",
          "text": [
            "Success!\n"
          ],
          "name": "stdout"
        }
      ]
    },
    {
      "cell_type": "code",
      "metadata": {
        "deletable": false,
        "editable": false,
        "nbgrader": {
          "checksum": "d730fa418fb099b6bf81de1ad4270277",
          "grade": true,
          "grade_id": "cell-e6c15ffda34e5b3d",
          "locked": true,
          "points": 5,
          "schema_version": 1,
          "solution": false
        },
        "id": "ykkl83gnl0GU",
        "colab": {
          "base_uri": "https://localhost:8080/",
          "height": 34
        },
        "outputId": "784a4d76-2be7-4229-f517-9ee73fb497fb"
      },
      "source": [
        "### Tests for division\n",
        "\n",
        "d = AD(a=8, b=6) / AD(a=2, c=4)\n",
        "check_equal(d, AD(a=4, b=6, c=0.25))\n",
        "\n"
      ],
      "execution_count": null,
      "outputs": [
        {
          "output_type": "stream",
          "text": [
            "Success!\n"
          ],
          "name": "stdout"
        }
      ]
    },
    {
      "cell_type": "code",
      "metadata": {
        "deletable": false,
        "editable": false,
        "nbgrader": {
          "checksum": "b94f37ad5e032008cb47372efae94f2f",
          "grade": true,
          "grade_id": "cell-fe7339dd25b17b36",
          "locked": true,
          "points": 5,
          "schema_version": 1,
          "solution": false
        },
        "id": "GLMqExNll0GV",
        "colab": {
          "base_uri": "https://localhost:8080/",
          "height": 34
        },
        "outputId": "a3a00a06-81fa-44fa-a55b-e21fd8c8ba26"
      },
      "source": [
        "### Tests for integer division\n",
        "\n",
        "d = AD(a=8, b=6) // AD(a=2, b=4, c=4)\n",
        "check_equal(d, AD(a=4, b=1, c=0))\n",
        "\n"
      ],
      "execution_count": null,
      "outputs": [
        {
          "output_type": "stream",
          "text": [
            "Success!\n"
          ],
          "name": "stdout"
        }
      ]
    },
    {
      "cell_type": "markdown",
      "metadata": {
        "deletable": false,
        "editable": false,
        "nbgrader": {
          "checksum": "7784f347dfff86258f4582778e9f49df",
          "grade": false,
          "grade_id": "cell-12ecdcb1ef056c3",
          "locked": true,
          "schema_version": 1,
          "solution": false
        },
        "id": "MKx5O3wgl0GW"
      },
      "source": [
        "We will let you also implement max_items and min_items properties.  The value of these properties should be a _pair_, consisting of the maximum/minimum value, and of the _set_ of keys that led to that value.  The latter needs to be a set, because there are multiple key, value pairs where the value is maximal or minimal. To avoid wasting your time, we will have you implement only the max_items property.  If the AD is empty, the property's value should be the pair `(None, set())`. "
      ]
    },
    {
      "cell_type": "code",
      "metadata": {
        "deletable": false,
        "nbgrader": {
          "checksum": "0ca1a44c7edbfc71b1ebb9866185e6d9",
          "grade": false,
          "grade_id": "cell-f2ba7c072e1cb214",
          "locked": false,
          "schema_version": 1,
          "solution": true
        },
        "id": "sHpvkQ4Yl0GX"
      },
      "source": [
        "### Question 2: Implement `max_items`\n",
        "\n",
        "def ad_max_items(self):\n",
        "    \"\"\"Returns a pair consisting of the max value in the AD, and of the\n",
        "    set of keys that attain that value. This can be done in 7 lines of code.\"\"\"\n",
        "    maximum = 0\n",
        "    s = set()\n",
        "\n",
        "    for key, value in self.items():\n",
        "      if value > maximum:\n",
        "        s = set()\n",
        "        s.add(key)\n",
        "        maximum = value\n",
        "      elif value == maximum:\n",
        "        s.add(key)\n",
        "    \n",
        "    if maximum == 0:\n",
        "      return None, set()\n",
        "    \n",
        "    return maximum, s\n",
        "\n",
        "# Remember the use of the property decorator.\n",
        "AD.max_items = property(ad_max_items)\n"
      ],
      "execution_count": null,
      "outputs": []
    },
    {
      "cell_type": "code",
      "metadata": {
        "deletable": false,
        "editable": false,
        "nbgrader": {
          "checksum": "13f74b827133fff5a33379c1e79c5583",
          "grade": true,
          "grade_id": "cell-cca16137c4698367",
          "locked": true,
          "points": 10,
          "schema_version": 1,
          "solution": false
        },
        "id": "SDhEh1W1l0GY",
        "colab": {
          "base_uri": "https://localhost:8080/",
          "height": 70
        },
        "outputId": "ed89be21-d8dd-4679-ff60-e908b16d5fb7"
      },
      "source": [
        "### Tests for `max_items`\n",
        "\n",
        "# For empty ADs, it has to return None as value, and the empty set as key set.\n",
        "check_equal(AD().max_items, (None, set()))\n",
        "# Case of one maximum.\n",
        "check_equal(AD(red=2, green=3, blue=1).max_items, (3, {'green'}))\n",
        "# Case of multiple maxima.\n",
        "check_equal(AD(red=2, yellow=3, blue=3, violet=3, pink=1).max_items,\n",
        "             (3, {'yellow', 'blue', 'violet'}))\n"
      ],
      "execution_count": null,
      "outputs": [
        {
          "output_type": "stream",
          "text": [
            "Success!\n",
            "Success!\n",
            "Success!\n"
          ],
          "name": "stdout"
        }
      ]
    },
    {
      "cell_type": "markdown",
      "metadata": {
        "deletable": false,
        "editable": false,
        "nbgrader": {
          "checksum": "31b78cee680084d9e5a741e8290ec629",
          "grade": false,
          "grade_id": "cell-322c5b1d7161bcef",
          "locked": true,
          "schema_version": 1,
          "solution": false
        },
        "id": "GbcWNv2_l0Ga"
      },
      "source": [
        "## Comparison and Logical Operators\n",
        "\n",
        "### Comparisons\n",
        "\n",
        "If `d` is an `AD`, what is the meaning of `d > 2`?\n",
        "\n",
        "In numpy, when we have an array `a`, and we write `a > 2`, we obtain the array consisting of boolean entries, indicating whether the elements of `a` are greater than two or not: \n"
      ]
    },
    {
      "cell_type": "code",
      "metadata": {
        "deletable": false,
        "editable": false,
        "nbgrader": {
          "checksum": "a67e91c7c1a59b42a2b2b09ae5b06d71",
          "grade": false,
          "grade_id": "cell-ad546286da637375",
          "locked": true,
          "schema_version": 1,
          "solution": false
        },
        "id": "UDw6ylH5l0Ga",
        "colab": {
          "base_uri": "https://localhost:8080/",
          "height": 34
        },
        "outputId": "accb8251-e2bf-442e-9d76-88f3b79bd7e4"
      },
      "source": [
        "import numpy as np\n",
        "\n",
        "a = np.array([2, 3, 4, 1, 2])\n",
        "a > 2\n"
      ],
      "execution_count": null,
      "outputs": [
        {
          "output_type": "execute_result",
          "data": {
            "text/plain": [
              "array([False,  True,  True, False, False])"
            ]
          },
          "metadata": {
            "tags": []
          },
          "execution_count": 95
        }
      ]
    },
    {
      "cell_type": "markdown",
      "metadata": {
        "deletable": false,
        "editable": false,
        "nbgrader": {
          "checksum": "6840e8da656aecf795a04b217dc371dc",
          "grade": false,
          "grade_id": "cell-ec7954712f57891f",
          "locked": true,
          "schema_version": 1,
          "solution": false
        },
        "id": "xiYwRIrBl0Gc"
      },
      "source": [
        "This suggests adopting a similar semantics for inequalities, defining the behavior of the [comparison operators](https://docs.python.org/3/reference/datamodel.html#object.__lt__):"
      ]
    },
    {
      "cell_type": "code",
      "metadata": {
        "deletable": false,
        "editable": false,
        "nbgrader": {
          "checksum": "d3ea3f739311dd2652b3eb0d0f23d6fb",
          "grade": false,
          "grade_id": "cell-3b861411bac0c739",
          "locked": true,
          "schema_version": 1,
          "solution": false
        },
        "id": "HJL8IWOtl0Gc"
      },
      "source": [
        "AD.__lt__ = lambda l, r: AD._binary_op(l, r, lambda x, y: x < y, 0)\n",
        "AD.__gt__ = lambda l, r: AD._binary_op(l, r, lambda x, y: x > y, 0)\n",
        "AD.__le__ = lambda l, r: AD._binary_op(l, r, lambda x, y: x <= y, 0)\n",
        "AD.__ge__ = lambda l, r: AD._binary_op(l, r, lambda x, y: x >= y, 0)\n"
      ],
      "execution_count": null,
      "outputs": []
    },
    {
      "cell_type": "markdown",
      "metadata": {
        "deletable": false,
        "editable": false,
        "nbgrader": {
          "checksum": "9e4c77bd0b4b44526c8ee5c127055a01",
          "grade": false,
          "grade_id": "cell-df7d2cc5a1c9eaaf",
          "locked": true,
          "schema_version": 1,
          "solution": false
        },
        "id": "IASS767Ol0Gf"
      },
      "source": [
        "Let us see how this works: "
      ]
    },
    {
      "cell_type": "code",
      "metadata": {
        "deletable": false,
        "editable": false,
        "nbgrader": {
          "checksum": "718d9d7d35d28d3b8adb6f912478b8a6",
          "grade": false,
          "grade_id": "cell-72f4d0eab18f72f0",
          "locked": true,
          "schema_version": 1,
          "solution": false
        },
        "id": "o0L6V7fsl0Gf",
        "colab": {
          "base_uri": "https://localhost:8080/",
          "height": 34
        },
        "outputId": "dadedc61-4f7c-46ee-f862-69479ae00133"
      },
      "source": [
        "AD(cat=4, bird=2) > 2\n"
      ],
      "execution_count": null,
      "outputs": [
        {
          "output_type": "execute_result",
          "data": {
            "text/plain": [
              "{'bird': False, 'cat': True}"
            ]
          },
          "metadata": {
            "tags": []
          },
          "execution_count": 97
        }
      ]
    },
    {
      "cell_type": "markdown",
      "metadata": {
        "deletable": false,
        "editable": false,
        "nbgrader": {
          "checksum": "6a125d35a3eb43fd3cb90d8ac19f9946",
          "grade": false,
          "grade_id": "cell-cf4761245add0b91",
          "locked": true,
          "schema_version": 1,
          "solution": false
        },
        "id": "EB_Gvfw5l0Gh"
      },
      "source": [
        "Once we have a dictionary mapping from values to booleans, we need some way of testing whether all keys, or some keys, map to True. In Python, the `all()` function returns whether all elements in a boolean list are true: "
      ]
    },
    {
      "cell_type": "code",
      "metadata": {
        "deletable": false,
        "editable": false,
        "nbgrader": {
          "checksum": "750d04c371ed65bc9424e2b667557497",
          "grade": false,
          "grade_id": "cell-649ee28bb232cec2",
          "locked": true,
          "schema_version": 1,
          "solution": false
        },
        "id": "On5d2rP0l0Gh",
        "colab": {
          "base_uri": "https://localhost:8080/",
          "height": 52
        },
        "outputId": "edffe04e-db4e-4e01-f875-fdcc61d71874"
      },
      "source": [
        "print(all([True, False, True, True]))\n",
        "print(all([True, True, True, True]))\n"
      ],
      "execution_count": null,
      "outputs": [
        {
          "output_type": "stream",
          "text": [
            "False\n",
            "True\n"
          ],
          "name": "stdout"
        }
      ]
    },
    {
      "cell_type": "markdown",
      "metadata": {
        "deletable": false,
        "editable": false,
        "nbgrader": {
          "checksum": "b6b5a10c96ffa231d2cd6e37906b6a9b",
          "grade": false,
          "grade_id": "cell-1af1e8b90a720aef",
          "locked": true,
          "schema_version": 1,
          "solution": false
        },
        "id": "ClIqxn3fl0Gi"
      },
      "source": [
        "So we can define the `all` and `any` methods for an AD as follows: "
      ]
    },
    {
      "cell_type": "code",
      "metadata": {
        "deletable": false,
        "editable": false,
        "nbgrader": {
          "checksum": "31d8a8bd5729010a5dea95adf396a295",
          "grade": false,
          "grade_id": "cell-5d87282fd5e71152",
          "locked": true,
          "schema_version": 1,
          "solution": false
        },
        "id": "Yk17ICCtl0Gj"
      },
      "source": [
        "AD.all = lambda self : all(self.values())\n",
        "AD.any = lambda self : any(self.values())\n"
      ],
      "execution_count": null,
      "outputs": []
    },
    {
      "cell_type": "markdown",
      "metadata": {
        "deletable": false,
        "editable": false,
        "nbgrader": {
          "checksum": "f80cf47ab91270a8f21aaac95652ef27",
          "grade": false,
          "grade_id": "cell-8968bb63a48dc32b",
          "locked": true,
          "schema_version": 1,
          "solution": false
        },
        "id": "MBn1N26Zl0Gk"
      },
      "source": [
        "We also add a method for filtering the elements that satisfy a condition.  If the condition is left unspecified, we use the truth-value of the elements themselves."
      ]
    },
    {
      "cell_type": "code",
      "metadata": {
        "deletable": false,
        "editable": false,
        "nbgrader": {
          "checksum": "6c4cbd7c06ebf2f2bb6566dd41b0519f",
          "grade": false,
          "grade_id": "cell-8baf11fdd9c2b2ea",
          "locked": true,
          "schema_version": 1,
          "solution": false
        },
        "id": "Xh5Yt10xl0Gk"
      },
      "source": [
        "def ad_filter(self, f=None):\n",
        "    return AD({k: v for k, v in self.items() if (f(v) if f is not None else v)})\n",
        "AD.filter = ad_filter\n"
      ],
      "execution_count": null,
      "outputs": []
    },
    {
      "cell_type": "markdown",
      "metadata": {
        "deletable": false,
        "editable": false,
        "nbgrader": {
          "checksum": "1d1ecb62d553d0706e44a7833d6739f4",
          "grade": false,
          "grade_id": "cell-dce0f872a897b8dd",
          "locked": true,
          "schema_version": 1,
          "solution": false
        },
        "id": "FBJrYDSYl0Gm"
      },
      "source": [
        "Let us try this out."
      ]
    },
    {
      "cell_type": "code",
      "metadata": {
        "deletable": false,
        "editable": false,
        "nbgrader": {
          "checksum": "e31994ebe79770d724d9438e93ff9ec2",
          "grade": false,
          "grade_id": "cell-1dcac30ff905fc76",
          "locked": true,
          "schema_version": 1,
          "solution": false
        },
        "id": "netGtob7l0Gm",
        "colab": {
          "base_uri": "https://localhost:8080/",
          "height": 34
        },
        "outputId": "b58174bb-900e-4432-eab4-a3116c8a01a4"
      },
      "source": [
        "d = AD(green=3, blue=2, red=1)\n",
        "d.filter(lambda x : x > 1)\n"
      ],
      "execution_count": null,
      "outputs": [
        {
          "output_type": "execute_result",
          "data": {
            "text/plain": [
              "{'blue': 2, 'green': 3}"
            ]
          },
          "metadata": {
            "tags": []
          },
          "execution_count": 101
        }
      ]
    },
    {
      "cell_type": "code",
      "metadata": {
        "deletable": false,
        "editable": false,
        "nbgrader": {
          "checksum": "b8fc560fe9eb204b6d2f716a0215441c",
          "grade": false,
          "grade_id": "cell-e9b17bf6959eccbc",
          "locked": true,
          "schema_version": 1,
          "solution": false
        },
        "id": "4JIVA1ZLl0Gn",
        "colab": {
          "base_uri": "https://localhost:8080/",
          "height": 34
        },
        "outputId": "175a245c-ee3a-4eb5-ba48-86e5281ef5b8"
      },
      "source": [
        "d = AD(green=3, blue=2, red=1)\n",
        "(d > 1).filter()\n"
      ],
      "execution_count": null,
      "outputs": [
        {
          "output_type": "execute_result",
          "data": {
            "text/plain": [
              "{'blue': True, 'green': True}"
            ]
          },
          "metadata": {
            "tags": []
          },
          "execution_count": 102
        }
      ]
    },
    {
      "cell_type": "code",
      "metadata": {
        "deletable": false,
        "editable": false,
        "nbgrader": {
          "checksum": "f4b4fe89f1dbad1a8ff5b883390ffb4e",
          "grade": false,
          "grade_id": "cell-3ad98b052c25a365",
          "locked": true,
          "schema_version": 1,
          "solution": false
        },
        "id": "RXjUrTzIl0Gp",
        "colab": {
          "base_uri": "https://localhost:8080/",
          "height": 34
        },
        "outputId": "edc97a28-ac5a-4637-dced-2aa11ca7680a"
      },
      "source": [
        "(d > 1).all()\n"
      ],
      "execution_count": null,
      "outputs": [
        {
          "output_type": "execute_result",
          "data": {
            "text/plain": [
              "False"
            ]
          },
          "metadata": {
            "tags": []
          },
          "execution_count": 103
        }
      ]
    },
    {
      "cell_type": "code",
      "metadata": {
        "deletable": false,
        "editable": false,
        "nbgrader": {
          "checksum": "8cc70e8259ecfce2b41e7468f1cb6889",
          "grade": false,
          "grade_id": "cell-4c78115c9589feaa",
          "locked": true,
          "schema_version": 1,
          "solution": false
        },
        "id": "FpIkxZ3nl0Gq",
        "colab": {
          "base_uri": "https://localhost:8080/",
          "height": 34
        },
        "outputId": "44cef9ac-7c3e-47a6-c021-ab8b077484de"
      },
      "source": [
        "(d > 0).all()\n"
      ],
      "execution_count": null,
      "outputs": [
        {
          "output_type": "execute_result",
          "data": {
            "text/plain": [
              "True"
            ]
          },
          "metadata": {
            "tags": []
          },
          "execution_count": 104
        }
      ]
    },
    {
      "cell_type": "markdown",
      "metadata": {
        "deletable": false,
        "editable": false,
        "nbgrader": {
          "checksum": "50416de9e69afc849582c1343ebc58e7",
          "grade": false,
          "grade_id": "cell-c146eb91e29414ea",
          "locked": true,
          "schema_version": 1,
          "solution": false
        },
        "id": "-vaM9msXl0Gs"
      },
      "source": [
        "## Implementing Bag of Words in Terms of Arithmetic Dictionaries\n",
        "\n",
        "In natural language processing, a common (if not very detailed!) representation for a piece of text is the (_Bag of Words_)[https://en.wikipedia.org/wiki/Bag-of-words_model] model. \n",
        "It's quite simple: we count how many times a word appears in a piece of text, and that's it! \n",
        "We can implement bag of words quite simply in terms of our Arithmetic Dictionaries. \n",
        "\n",
        "We want to create a bag of words via: \n",
        "\n",
        "    bow = BoW(\"some piece of text\")\n",
        "\n",
        "We then want all the operations we defined for ADs to work also for bags of words.  For instance, we want to be able to do: \n",
        "\n",
        "    bow1 = BoW(\"I like cakes\")\n",
        "    bow2 = BoW(\"I drink coffee\")\n",
        "    bow3 = bow1 + bow2\n",
        "\n",
        "and we want to get as result the bag of words corresponding to the count:\n",
        "\n",
        "    {\"I\": 2, \"like\": 1, \"cakes\": 1, \"drink\": 1, \"coffee\": 1}\n"
      ]
    },
    {
      "cell_type": "markdown",
      "metadata": {
        "deletable": false,
        "editable": false,
        "nbgrader": {
          "checksum": "52e4c4f9581274b42baaeb9aedb29d60",
          "grade": false,
          "grade_id": "cell-bda3a9d3a4ef9c4a",
          "locked": true,
          "schema_version": 1,
          "solution": false
        },
        "id": "zy2InA3wl0Gt"
      },
      "source": [
        "## A pedestrian solution: a class with an AD member\n",
        "\n",
        "There are two ways of doing this. \n",
        "The most pedestrian is to define a new class BaW (note the intentional mis-spelling), with an AD as a member. "
      ]
    },
    {
      "cell_type": "code",
      "metadata": {
        "deletable": false,
        "editable": false,
        "nbgrader": {
          "checksum": "a8a49c78e2558461b0ae9caeb278bc94",
          "grade": false,
          "grade_id": "cell-ed3b8be4b684fb87",
          "locked": true,
          "schema_version": 1,
          "solution": false
        },
        "id": "byCFP6uxl0Gt"
      },
      "source": [
        "class BaW(object):\n",
        "\n",
        "    def __init__(self, text=None):\n",
        "        # Here, you have to split the text, and define self.ad to\n",
        "        # be an AD corresponding to the text.\n",
        "        # It can be done in 4 lines of code.\n",
        "        self.ad =  AD()\n",
        "        if text is not None:\n",
        "            for w in text.split():\n",
        "                self.ad += AD({w: 1})\n",
        "\n",
        "    def __add__(self, other):\n",
        "        b = BaW()\n",
        "        b.ad = self.ad + other.ad\n",
        "        return b\n",
        "\n",
        "    def __repr__(self):\n",
        "        return repr(self.ad)\n"
      ],
      "execution_count": null,
      "outputs": []
    },
    {
      "cell_type": "code",
      "metadata": {
        "deletable": false,
        "editable": false,
        "nbgrader": {
          "checksum": "a002624252388052b285521959047848",
          "grade": false,
          "grade_id": "cell-49f66825a478dec1",
          "locked": true,
          "schema_version": 1,
          "solution": false
        },
        "id": "uGDKT5Bnl0Gu",
        "colab": {
          "base_uri": "https://localhost:8080/",
          "height": 52
        },
        "outputId": "82bd826c-3a8c-4fef-bbe6-2cb2091f98dd"
      },
      "source": [
        "baw1 = BaW(\"I like to pick raisins\")\n",
        "baw2 = BaW(\"I do not like to pick apples\")\n",
        "print(baw1 + baw2)\n",
        "print(baw1)\n"
      ],
      "execution_count": null,
      "outputs": [
        {
          "output_type": "stream",
          "text": [
            "{'apples': 1, 'not': 1, 'I': 2, 'do': 1, 'raisins': 1, 'to': 2, 'pick': 2, 'like': 2}\n",
            "{'raisins': 1, 'to': 1, 'pick': 1, 'I': 1, 'like': 1}\n"
          ],
          "name": "stdout"
        }
      ]
    },
    {
      "cell_type": "code",
      "metadata": {
        "deletable": false,
        "editable": false,
        "nbgrader": {
          "checksum": "eefe11c64c965f3b5b4201c9f6bee654",
          "grade": false,
          "grade_id": "cell-c3eb72443d44db4d",
          "locked": true,
          "schema_version": 1,
          "solution": false
        },
        "id": "Mffkruoil0Gw",
        "colab": {
          "base_uri": "https://localhost:8080/",
          "height": 70
        },
        "outputId": "44d0ba64-967e-473b-b362-eec93b7e53b8"
      },
      "source": [
        "### Tests for BaW\n",
        "baw1 = BaW(\"I like to pick raisins\")\n",
        "baw2 = BaW(\"I do not like to pick pick apples\")\n",
        "baw3 = baw1 + baw2\n",
        "check_equal(baw1.ad['like'], 1)\n",
        "check_equal(baw3.ad['like'], 2)\n",
        "check_equal(baw3.ad['pick'], 3)"
      ],
      "execution_count": null,
      "outputs": [
        {
          "output_type": "stream",
          "text": [
            "Success!\n",
            "Success!\n",
            "Success!\n"
          ],
          "name": "stdout"
        }
      ]
    },
    {
      "cell_type": "markdown",
      "metadata": {
        "deletable": false,
        "editable": false,
        "nbgrader": {
          "checksum": "fb3dfa3779ec948214ad69f91b55e02c",
          "grade": false,
          "grade_id": "cell-499f56768c296f0",
          "locked": true,
          "schema_version": 1,
          "solution": false
        },
        "id": "Mv9g5onCl0Gx"
      },
      "source": [
        "## A sophisticated solution: subclassing AD\n",
        "\n",
        "Defining a new class BaW however is a big waste. Then we have to redefine all the methods we need, from `__add__`, to `__sub__`, to the inequalities... \n",
        "In truth, all we need to do is make BoW (now spelled correctly) a subclass of AD, replacing its initializer so it can take a piece of text rather than a dictionary initializer. \n",
        "\n",
        "Replacing the initializer is slightly tricky, so we will help you do it.  First, the initializer calls the superclass initializer, like so:\n",
        "\n",
        "    def __init__(self, text):\n",
        "        super().__init__()\n",
        "\n",
        "Next, you compute an AD `ad` representing the word occurrences in `text`, just as you did for BaW. \n",
        "\n",
        "Then, there are two ways to copy `ad` into `self`: one is to do:\n",
        "\n",
        "    self.update(ad)\n",
        "\n",
        "and the other is to do:\n",
        "\n",
        "    for k, v in ad.items():\n",
        "        self[k] = v\n",
        "\n",
        "Choose whichever way you want.\n",
        "\n",
        "### A third way\n",
        "\n",
        "There is also another way of writing the initializer for BoW, which we mention here for the sake of completeness.  \n",
        "In this third way, you first compute the AD `ad`, and _then_ you call the superclass initializer with `ad` as an argument. \n",
        "\n",
        "    def __init__(self, text):\n",
        "        ad = ... # Compute it somehow\n",
        "        super().__init__(ad)\n",
        "\n",
        "Do not use this way in your solution: in your solution, the superclass initializer is called at the beginning, and calling it twice won't work.\n"
      ]
    },
    {
      "cell_type": "code",
      "metadata": {
        "deletable": false,
        "nbgrader": {
          "checksum": "83b7974deef59d4a08b124af78a304c8",
          "grade": false,
          "grade_id": "cell-9896fdbfcc5ff98b",
          "locked": false,
          "schema_version": 1,
          "solution": true
        },
        "id": "8psH7Ugbl0Gx"
      },
      "source": [
        "### Question 3: Define BoW (you need to write only the initializer).\n",
        "\n",
        "class BoW(AD):\n",
        "\n",
        "  def __init__(self, text):\n",
        "    self.ad =  AD()\n",
        "    if text is not None:\n",
        "      for w in text.split():\n",
        "        self.ad += AD({w: 1})\n",
        "    super().__init__(self.ad)"
      ],
      "execution_count": null,
      "outputs": []
    },
    {
      "cell_type": "markdown",
      "metadata": {
        "deletable": false,
        "editable": false,
        "nbgrader": {
          "checksum": "303946935638802809c18aebe0efbf61",
          "grade": false,
          "grade_id": "cell-9da1c59c22ffac07",
          "locked": true,
          "schema_version": 1,
          "solution": false
        },
        "id": "GY0SO1jMl0Gz"
      },
      "source": [
        "The beauty of subclassing is that we only have to replace the initializer: all the implementations of `__add__`, etc, are already there for us to use."
      ]
    },
    {
      "cell_type": "code",
      "metadata": {
        "deletable": false,
        "editable": false,
        "nbgrader": {
          "checksum": "67ea348ab52760294605cc3df5b37b42",
          "grade": false,
          "grade_id": "cell-4545a39818c0c74d",
          "locked": true,
          "schema_version": 1,
          "solution": false
        },
        "id": "wW234D-sl0Gz",
        "colab": {
          "base_uri": "https://localhost:8080/",
          "height": 158
        },
        "outputId": "527309f1-b0ab-414e-e9d6-eae0ba86aa4a"
      },
      "source": [
        "bow1 = BoW(\"I like to eat cakes to go\")\n",
        "bow2 = BoW(\"I like to drink coffee\")\n",
        "bow1 + bow2"
      ],
      "execution_count": null,
      "outputs": [
        {
          "output_type": "execute_result",
          "data": {
            "text/plain": [
              "{'I': 2,\n",
              " 'cakes': 1,\n",
              " 'coffee': 1,\n",
              " 'drink': 1,\n",
              " 'eat': 1,\n",
              " 'go': 1,\n",
              " 'like': 2,\n",
              " 'to': 3}"
            ]
          },
          "metadata": {
            "tags": []
          },
          "execution_count": 109
        }
      ]
    },
    {
      "cell_type": "code",
      "metadata": {
        "deletable": false,
        "editable": false,
        "nbgrader": {
          "checksum": "97da94e547e675464091a152af39356a",
          "grade": false,
          "grade_id": "cell-416bab2dd5042918",
          "locked": true,
          "schema_version": 1,
          "solution": false
        },
        "id": "lSITbJ8Tl0G1",
        "colab": {
          "base_uri": "https://localhost:8080/",
          "height": 158
        },
        "outputId": "e12c125a-5664-4ac4-dbe3-7287659ab4c6"
      },
      "source": [
        "bow1 - bow2\n"
      ],
      "execution_count": null,
      "outputs": [
        {
          "output_type": "execute_result",
          "data": {
            "text/plain": [
              "{'I': 0,\n",
              " 'cakes': 1,\n",
              " 'coffee': -1,\n",
              " 'drink': -1,\n",
              " 'eat': 1,\n",
              " 'go': 1,\n",
              " 'like': 0,\n",
              " 'to': 1}"
            ]
          },
          "metadata": {
            "tags": []
          },
          "execution_count": 110
        }
      ]
    },
    {
      "cell_type": "code",
      "metadata": {
        "deletable": false,
        "editable": false,
        "nbgrader": {
          "checksum": "fc47ace110aa04c2987df7b00a8d87e4",
          "grade": true,
          "grade_id": "cell-0d9bd1a7d0135222",
          "locked": true,
          "points": 5,
          "schema_version": 1,
          "solution": false
        },
        "id": "hV8cYYyHl0G3",
        "colab": {
          "base_uri": "https://localhost:8080/",
          "height": 34
        },
        "outputId": "9b50e6ac-9237-4c7d-efa7-449463c296cf"
      },
      "source": [
        "### Tests for BoW, base case. \n",
        "\n",
        "empty_bow = BoW(\"\")\n",
        "check_equal(len(empty_bow), 0)"
      ],
      "execution_count": null,
      "outputs": [
        {
          "output_type": "stream",
          "text": [
            "Success!\n"
          ],
          "name": "stdout"
        }
      ]
    },
    {
      "cell_type": "code",
      "metadata": {
        "deletable": false,
        "editable": false,
        "nbgrader": {
          "checksum": "32e92cee8733ce566a65454409b7c162",
          "grade": true,
          "grade_id": "cell-b7505bdd0a6df6f5",
          "locked": true,
          "points": 5,
          "schema_version": 1,
          "solution": false
        },
        "id": "pQzoNrWql0G5",
        "colab": {
          "base_uri": "https://localhost:8080/",
          "height": 52
        },
        "outputId": "427e0f4e-760c-43ac-d766-005070dbce6e"
      },
      "source": [
        "### We check that you really build an AD.\n",
        "\n",
        "simple_bow = BoW(\"I like apples\")\n",
        "check_equal(isinstance(simple_bow, AD), True)\n",
        "check_equal(set(simple_bow.keys()), {'I', 'like', 'apples'})\n"
      ],
      "execution_count": null,
      "outputs": [
        {
          "output_type": "stream",
          "text": [
            "Success!\n",
            "Success!\n"
          ],
          "name": "stdout"
        }
      ]
    },
    {
      "cell_type": "code",
      "metadata": {
        "deletable": false,
        "editable": false,
        "nbgrader": {
          "checksum": "f0236c7e14c2612dcea0e03a9d7261c9",
          "grade": true,
          "grade_id": "cell-6fd379010bccdf47",
          "locked": true,
          "points": 10,
          "schema_version": 1,
          "solution": false
        },
        "id": "vZJf346tl0G6",
        "colab": {
          "base_uri": "https://localhost:8080/",
          "height": 52
        },
        "outputId": "3c2b8429-51e7-4882-bce2-55a06403ccf8"
      },
      "source": [
        "### Tests for BoW, full behavior. \n",
        "\n",
        "bow1 = BoW(\"I like to eat cakes to go\")\n",
        "bow2 = BoW(\"I like to drink coffee\")\n",
        "bow3 = bow1 + bow2\n",
        "check_equal(bow3['I'], 2)\n",
        "check_equal(bow3['to'], 3)\n",
        "\n"
      ],
      "execution_count": null,
      "outputs": [
        {
          "output_type": "stream",
          "text": [
            "Success!\n",
            "Success!\n"
          ],
          "name": "stdout"
        }
      ]
    }
  ]
}